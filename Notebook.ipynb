{
 "cells": [
  {
   "cell_type": "markdown",
   "metadata": {},
   "source": [
    "### Load Documents"
   ]
  },
  {
   "cell_type": "code",
   "execution_count": 1,
   "metadata": {},
   "outputs": [],
   "source": [
    "import glob\n",
    "\n",
    "\n",
    "contents = []\n",
    "file_paths = glob.glob(\"documents/*.txt\")\n",
    "for file_path in file_paths:\n",
    "    with open(file_path, \"r\", encoding='latin-1') as f:\n",
    "        contents.append(f.read())"
   ]
  },
  {
   "cell_type": "code",
   "execution_count": 2,
   "metadata": {},
   "outputs": [
    {
     "data": {
      "text/plain": [
       "[\"Quelle est l'age limite pour pouvoir faire le concours?La limite d\\x92âge est de 22 ans au premier octobre 2021 et tout dossier irrecevable sera classé sans suite et sans remboursement des frais déjà payés.\\nQuels sont les eleves qui peuvent se presenter au concours?Le concours est ouvert aux élèves des classes de terminales scientifiques ou techniques (S1, S2, S3, T1, T2), mais également aux bacheliers et candidats libres aux baccalauréats (S1, S2, S3, T1, T2).\\nLes candidats seront évalués sur quelles matieres?Les matières à traiter sous forme de questions à choix multiples (QCM) sont : Mathématiques, Physique, Français, Anglais. La durée des épreuves est de trois heures.\\nOù puis-je trouver des epreuves des années précédentes?Vous pouvez télécharger des épreuves à partir de l\\x92onglet anciennes épreuves\\nQuel est le delai maximal pour envoyer mon relevé?Pour les candidats des classes de terminale, en cas de réussite au bac, ils sont priés d\\x92envoyer la photocopie légalisée du relevé du bac dans les dix jours suivant la proclamation des résultats.\\nQuelle est la durée de la formation à l'ept?La formation dure 05 années et est sanctionnée par le Diplôme d\\x92Ingénieur de Conception en Génie Civil,en Génie Électromécanique, en Génie Informatique & Télécommunications , en Génie Aéronautique et en Génie Industriel.\\nOù est ce que le concours se fera ?Des centres sont ouverts dans toutes les régions du pays. Lors de votre inscription en ligne choisissez le centre qui vous arrange le plus au niveau du formulaire\\n25 Janvier 2024: Ouverture Session & Debut Inscription.15 Avril 2024: Clôture dépot dossier.01 juin 2024:  Concours d'entrée \",\n",
       " '\\nLes missions du Directeur des Etudes s\\x92inscrivent dans le cadre des dispositions relatives à l\\x92organisation interne, du décret 2009-586 du 18 juin 2009 portant création, organisation et fonctionnement de l\\x92EPT.Relevant du directeur, le Directeur des Etudes est responsable de chacun des aspects reliés à l\\x92administration des programmes d\\x92études de l\\x92EPT, et dans le cadre des structures administratives existantes, de l\\x92atteinte de ses objectifs académiques. A cet égard, il veille à la mise en \\x9cuvre, la promotion et l\\x92adhésion au plan stratégique dans le secteur académique. Son rôle est de coordonner toutes les activités liées à l\\x92organisation, au fonctionnement et à l\\x92évolution de tout ce qui relève de la pédagogie de l\\x92Ecole, et ce, en collaboration avec les autres gestionnaires sous l\\x92approbation du Directeur.Les départements et services sur lesquels le Directeur des Etudes s\\x92appuie dans l\\x92exercice de ses missions sont :\\xa0Le département de Tronc Commun\\xa0;Le département de Génie Civil\\xa0;Le département de Génie Electromécanique (intégrant la filière aéronautique)\\xa0;Le département de Génie Informatique et télécommunications\\xa0;Le service de la Scolarité\\xa0;Le service d\\x92Information Documentaire\\xa0;Le service de l\\x92imprimerie et de la Reprographie. ',\n",
       " 'Brève description de la formation\\nLe programme de formation du Master interuniversitaire en Transport et Mobilité Numérique (MiTMN) a été élaboré suivant une logique d\\x92approche par compétences qui a considéré, comme facteurs déterminants de démarrage de l\\x92ingénierie, à la fois les besoins des milieux professionnels et la volonté de l\\x92Etat de former un type de professionnel apte à porter le développement durable dans un contexte de mondialisation des systèmes de gouvernance, de production et de services.\\nCe programme offre une formation spécialisée et professionnalisante destinée aux détenteurs d\\x92un diplôme de niveau Bac+3 dans les domaines suivants : « Sciences et technologies » et « Sciences économiques et gestion ». Il permet aux apprenants d\\x92obtenir une spécialisation dans le transport et la mobilité.\\nAinsi, le programme de formation du MiTMN permettra aux apprenants d\\x92acquérir des compétences spécifiques au métier et des compétences transversales leur permettant de travailler et d\\x92évoluer dans un large éventail d\\x92activités complexes et dans des contextes aussi nombreux que variés de systèmes de transport et mobilité.\\nL\\x92enseignement offert dans ce programme permet aux apprenants de mieux concevoir les problématiques de transport en fonction des caractéristiques de la mobilité urbaine.\\nCette formation tient compte des transformations de la société et du marché du travail ainsi que de l\\x92intérêt croissant des instances publiques pour la thématique du transport et de la mobilité.\\nLe programme est offert conjointement par l\\x92ESMT, l\\x92ESP de Dakar (UCAD), et l\\x92EPT de Thiès.\\n\\nObjectifsLe programme de formation du MiTMN a pour objectif de compléter la formation des ingénieurs qui souhaitent se spécialiser dans l\\x92organisation et la gestion des systèmes de transport et mobilité en milieux urbains.\\nLe programme de formation du MiTMN vise à rendre l\\x92apprenant employable, autonome, responsable, créatif, méthodique, efficace et entreprenant dans l\\x92exercice du métier ou de la profession de Manager d\\x92un Système de Transport et Mobilité à un niveau de performance exigé au seuil d\\x92entrée dans le marché du travail.\\nLes compétences spécifiques du MiTMN sont les suivantes :\\n1. Concevoir l\\x92offre de service de transport et mobilité ; \\n2. Déployer l\\x92offre de service de transport et mobilité ; \\n3. Organiser le système de transport et mobilité ; \\n4. Assurer la maintenance du système de transport et mobilité ; \\n5. Assurer le support du système de transport et mobilité.\\nDossier de candidaturePour s\\x92inscrire au MiTMN, les candidats devront fournir un dossier\\ncomprenant les pièces justificatives ci-dessous :\\nMaster 1\\n1. Extrait d\\x92acte de naissance de moins de (03) trois mois ;\\n2. Copie légalisée de la pièce d\\x92identité officielle ;\\n3. Copie légalisée du Baccalauréat ;\\n4. Copie légalisée du relevé de notes du Baccalauréat ;\\n5. Copie légalisée du diplôme de Licence ou du diplôme admis en équivalence ;\\n6. Copies légalisées des relevés de notes du cycle de Licence ou du diplôme admis en équivalence ;\\n7. CV actualisé ;\\n8. Quittance d\\x92acquittement des frais de dossier de 10 000 F CFA.\\nMaster 2\\n1. Extrait d\\x92acte de naissance de moins de (03) trois mois ;\\n2. Copie légalisée de la pièce d\\x92identité officielle ;\\n3. Copie légalisée du Baccalauréat ;\\n4. Copie légalisée du relevé de notes du Baccalauréat ;\\n5. Copie légalisée du diplôme de Licence ou du diplôme admis en équivalence ;\\n6. Copies légalisées des relevés de notes du cycle de Licence ou du diplôme admis en équivalence ;\\n7. Copie légalisée du diplôme de niveau minimum bac+4 ou du diplôme admis en équivalence ;\\n8. CV actualisé mettant en évidence les expériences professionnelles ;\\n9. Quittance d\\x92acquittement des frais de dossier de 10 000 F CFA.\\nNB : Les candidats admis au programme s\\x92engagent à faire une demande d\\x92équivalence et d\\x92admission à l\\x92UCAD\\nMéthodes pédagogiques\\xa0\\x96 Visioconférences (classes virtuelles) \\x96 Etudes de cas \\x96 Tutorat, coaching, mentorat \\x96 Projets fictifs (fil rouge) \\x96 Immersion en milieu professionnel \\x96 Projets professionnels \\x96 Simulation \\x96 Apprentissage collaboratif \\nDébouchés et Coût de la formationCe programme permet d\\x92enrichir le curriculum d\\x92étudiants ou de professionnels détenant déjà un diplôme les qualifiant pour des emplois d\\x92ingénieur.\\nLes employeurs potentiels pour les diplômés de ce programme sont des organismes intéressés par l\\x92organisation, la planification et la gestion des systèmes de transport et mobilité. Parmi ces organismes, on retrouve notamment :\\n\\x96 le ministère en charge des Transports terrestres au Sénégal ;\\n\\x96 le Conseil exécutif des transports urbains de Dakar (CETUD) ;\\n\\x96 les sociétés de transport.\\ncoût de la formation :\\n2 000 000 F CFA de scolarité par an.\\nDurée de la formation : Deux (2) ans\\nDate clés\\nRECRUTEMENT DE LA DEUXIEME PROMOTION DU MASTERiNTERUNIVERSITAIRE EN TRANSPORT ET MOBILITE NUMERIQUE (MiTMN)\\nPour apporter une solution durable à la problématique, l\\x92Etat du Sénégal a initié d\\x92importants projets dans le domaine des transports routiers et ferroviaires, à l\\x92exemple du BRT et du TER, qui engendrent de nouveaux besoins en ressources humaines compétentes et adaptées aux défis de la digitalisation du secteur des transports.C\\x92est dans ce contexte que l\\x92École Polytechnique de Thiès (EPT), l\\x92École supérieure Multinationale de Télécommunications (ESMT), l\\x92École supérieure Polytechnique (ESP) et le Conseil Exécutif des Transports Urbains Durables (CETUD) lancent le recrutement de la première promotion du Master Interuniversitaire en Transport et Mobilité numérique.Le master est ouvert aux détenteurs de diplôme de Licence dans les domaines des Sciences et technologies, Sciences économiques et gestion ou équivalent.Le recrutement se fera par sélection sur dossier de candidature suivie d\\x92entretiens.\\nLes dépôts des dossiers de candidature se feront à travers le formulaire à droite du 04 au 15 mars 2024.Le démarrage\\xa0 du M1 commence avec une immersion en entreprise pour la découverte des métiers du transport à partir du 25 mars 2024.\\nLe démarrage des cours est fixé le 15 avril 2024.\\nPour toute information complémentaire veuillez contacter le service commercial (ESMT) au 77 730 61 31 ou alors le contact académique Pr Abdoulaye GUISSE (EPT) au 76 621 35 57.\\n',\n",
       " 'Le département Tronc Commun de l\\x92Ecole Polytechnique de Thies a pour mission \\xa0d\\x92asseoir, en quatre semestres, un socle de formation scientifique et technique \\xa0à l\\x92instar des prépas scientifiques intégrées\\xa0 aux grandes écoles d\\x92ingénieurs.C\\x92est une \\xa0formation pluridisciplinaire répartie entre les sciences fondamentales (Mathématiques physique chimie), les\\xa0 sciences de l\\x92ingénieur, le management, les TIC et les ateliers.\\xa0Les cours sont communs pour les trois premiers semestres et un début de spécialisation est entamé au quatrième semestre dans la filière de génie choisie.A l\\x92issue de cette formation l\\x92élève aura acquis les outils scientifiques requis\\xa0 pour suivre normalement son parcours en filière.\\nListe des PER du département TC\\n\\n\\n \\n\\n                                Prénom                \\n\\n                                Nom                \\n\\n                                Grade                \\n\\n                                Spécialités                \\n\\n\\n\\nHamet Yoro \\n\\n                                BA                \\n\\n                                Professeur Assimilé                \\n\\n\\n\\n\\n\\nNdeye \\n\\n                                THIAM                \\n\\n                                Professeur Assimilé                \\n\\n\\n\\n\\n\\nOusmane \\n\\n                                SEYDI                \\n\\n                                Professeur Assimilé                \\n\\n                                Mathématiques                \\n\\n\\n\\nMassamba \\n\\n                                SY                \\n\\n                                Maître de conférences Titulaire                \\n\\n                                Réseaux Informatiques                \\n\\n\\n\\nBaba \\n\\n                                NGOM                \\n\\n                                Maître de conférences Titulaire                \\n\\n\\n\\n\\n\\nMamadou Salla \\n\\n                                GUEYE                \\n\\n                                Maître de conférences Titulaire                \\n\\n\\n\\n\\n\\nAdou \\n\\n                                THIAW                \\n\\n                                Assistant titulaire                \\n\\n\\n\\n\\n\\n\\n\\n\\nPremière annéeAnglais Technique\\xa0 ITravaux d\\x92Atelier\\xa0 IChimie GénéraleInformatique IInformatique\\xa0 IICalcul différentiel et Intégral\\xa0 IAlgèbre LinéaireCalcul différentiel et Intégral\\xa0 IICinématique et DynamiqueElectromagnétismeDessin Technique IDessin Technique IIGéométrie DescriptiveTechniques d\\x92expressionThermodynamique généraleDeuxième annéeTravaux d\\x92Atelier\\xa0 II (Option GC et GEM)Comptabilité généraleTransfert de Chaleur (Option GC et GEM)Programmation Avancée (Option GC et GEM)Introduction à l\\x92économieAdm. de l\\x92Entreprise et Relations de travailAnalyse VectorielleEquations différentiellesAnalyse NumériqueProbabilités et StatistiquesCompléments de Maths AppliquéesMécanique Statique (Option GC et GEM)Ondes et Vibrations (Option GC et GEM)Dessin Technique III (DAO, CAO) (Option GC et GEM)DroitScience des Matériaux (Option GC et GEM)Analyse de données (Option GIT)Architecture des Ordinateurs et Système d\\x92Exploitation 1 (Option GIT)Programmation Impérative 1 (Option GIT)Développement Web 1 (Option GIT)Stage Ouvrier',\n",
       " 'Le département Génie Electromécanique a pour mission de former des ingénieurs de conception dans les domaines de l\\x92électronique, de l\\x92électrotechnique et de la mécanique. Il a pour objectif de former des ingénieurs généralistes présentant un bon équilibre entre les connaissances scientifiques, technologiques et systèmes.La formation dans cette spécialité permet de prendre en compte, dans une démarche d\\x92ingénierie simultanée, toutes les données relatives à la vie d\\x92un produit ou d\\x92un système, depuis l\\x92avant-projet jusqu\\x92à sa réalisation et son recyclage éventuel. La formation proposée par le département génie électromécanique est le Diplôme d\\x92Ingénieur de Conception en électromécanique. Le programme vise à doter l\\x92ingénieur de compétences larges, basées sur la complémentarité des connaissances pluridisciplinaires scientifiques et techniques qui relèvent du Génie Mécanique et du Génie Electrique.La formation a pour objectifs de:permettre l\\x92adaptation des diplômés à une grande variété d\\x92emploisfaciliter leur mobilité et toute évolution ultérieure de carrièreleur donner la possibilité d\\x92une poursuite d\\x92étudesLes compétences acquises en formation peuvent s\\x92exercer dans des secteurs multiples en particulier:Production mécanique ;Maintenance industrielle ;Bureaux d\\x92études ;Production d\\x92énergie ;Technico-commercial ;Recherche et développement.Les titulaires du diplôme peuvent occuper les postes suivants\\xa0:Chef de projet;Directeur technique ;Responsable de bureau d\\x92étudesLe département Génie Électromécanique a pour objectif de former des ingénieurs généralistes présentant un bon équilibre entre les connaissances scientifiques, technologiques et systèmes.La formation dans cette spécialité permet de prendre en compte, dans une démarche d\\x92ingénierie simultanée, toutes les données relatives à la vie d\\x92un produit ou d\\x92un système, depuis l\\x92avant-projet jusqu\\x92à sa réalisation et son recyclage éventuel.Elle vise à doter l\\x92ingénieur de compétences larges, basées sur la complémentarité des connaissances pluridisciplinaires scientifiques et techniques qui relèvent du Génie Mécanique et du Génie Electrique.\\n\\n\\n\\nListe des PER du département GEM\\n\\n\\n \\n\\n                                Prénom                \\n\\n                                Nom                \\n\\n                                Grade                \\n\\n                                Spécialités                \\n\\n\\n\\nGorgui \\n\\n                                BOP                \\n\\n                                Maître de conférences assimilé                \\n\\n                                Turbines & compresseurs, Thermodynamique Appliquée, Froid & climatisation                \\n\\n\\n\\nOusseynou \\n\\n                                DIAO                \\n\\n                                Maître de conférences Titulaire                \\n\\n                                Mécanique des Fluides, Thermodynamique Appliquée                \\n\\n\\n\\nAlassane \\n\\n                                DIENE                \\n\\n                                Professeur Assimilé                \\n\\n                                Dessin technique, cours ateliers, géométrie descriptive                \\n\\n\\n\\nMame Faty \\n\\n                                MBAYE                \\n\\n                                Maître de conférences Titulaire                \\n\\n                                Procédés de fabrication, Management de la qualité, Maintenance et fiabilité des systèmes, Science des matériaux                \\n\\n\\n\\nNgor \\n\\n                                SARR                \\n\\n                                Maître de conférences assimilé                \\n\\n                                Gestion de production, Gestion des projets d\\x92ingénierie, entrepreneuriat                \\n\\n\\n\\nSalam \\n\\n                                SAWADOGO                \\n\\n                                Professeur Titulaire                \\n\\n                                Automatique                \\n\\n\\n\\nBarham \\n\\n                                THIAM                \\n\\n                                Assistant titulaire                \\n\\n                                Moteurs thermiques, Plomberie industrielle                \\n\\n\\n\\nMamadou \\n\\n                                THIAM                \\n\\n                                Maître de conférences Titulaire                \\n\\n                                Circuits électriques, Machines électriques                \\n\\n\\n\\nMamadou \\n\\n                                WADE                \\n\\n                                Professeur Titulaire                \\n\\n                                Electronique de Puissance, Réseaux électriques, Electronique générale, Electronique analogique                \\n\\n\\n\\nBirame Aldiouma \\n\\n                                SY                \\n\\n                                Maître de conférences Assimilé                \\n\\n                                Aérodynamique, Propulsion, Drone, Simulation numérique                \\n\\n\\n\\nAbdoulaye \\n\\n                                SARR                \\n\\n                                Assistant Titulaire                \\n\\n\\n\\n\\n\\nMamadou Kabirou \\n\\n                                TOURE                \\n\\n                                Maître de conférences Assimilé                \\n\\n\\n\\n\\n\\nObjectif du programmeLa filière ingénierie aéronautique de l\\x92EPT est le fruit d\\x92un fort partenariat entre l\\x92Ecole Polytechnique de Thiès (EPT), l\\x92Ecole de l\\x92Armée de l\\x92Air (EAA), et les acteurs de l\\x92aéronautique au Sénégal.Le programme de formation vise à donner aux étudiants une culture scientifique, technologique et des connaissances approfondies sur les aéronefs depuis leur conception jusqu\\x92à leur exploitation, tout en développant les aspects techniques et opérationnels du transport aérien civil. Le programme prépare à devenir ingénieur de conception dans l\\x92industrie aéronautique et spatiale, notamment auprès des avionneurs et des équipementiers aérospatiaux.Quelques modules du cursus :Aérodynamique, Propulsion, Avionique, Radar, structure des aéronefs, maintenance aéronautique, transport aérien.Domaines de compétenceLes compétences acquises en formation peuvent s\\x92exercer dans des secteurs multiples en particulier:la conception des systèmes aéronautiques et spatiaux;la maintenance aéronautique;les bureaux d\\x92études;Les titulaires du diplôme peuvent:Occuper des postes de responsabilité au sein des entreprises aéronautiques : Constructeurs, Compagnies Aériennes, Aéroports et Navigation Aérienne.Exercer un métier dans les nombreux secteurs connexes : Réseaux et Télécommunications,Systèmes Embarqués, Automatique et Informatique Industrielle.De plus, le niveau de formation acquis permet aux futurs ingénieurs de rayonner dans tous les secteurs économiques tout en ayant une expertise technique appliquée au domaine aéronautique.',\n",
       " 'Département du génie civil \\x96Présentation et missionsLe département Génie Civil a pour objectif de former des ingénieurs généralistes présentant un bon équilibre entre les connaissances scientifiques et techno- logiques orientées vers les sciences de la construction.La formation vise à doter l\\x92ingénieur de compétences larges, basées sur la complémentarité des connaissances pluridisciplinaires scientifiques et techniques qui relèvent du Génie Civil.Le régime des étudesLa durée des études pour la formation des élèves ingénieurs est de cinq ans à temps plein répartir-en :un premier cycle de tronc commun de quatre semestres, soit 2 ans ;un second cycle de spécialisation de six semestres, soit 3 ans.La durée annuelle de formation est de trente-deux (32) semaines.Les enseignementsLa formation en génie civil permet au futur ingénieur de conception :de maitriser les outils fondamentaux et appliqués requis ;de concevoir, de planifier, de réaliser, d\\x92exploiter des ouvrages et d\\x92en assurer la maintenance ;d\\x92intégrer et de développer le milieu industriel ;de maitriser les techniques de communication et de gestion.Domaines de compétenceHydraulique \\x96Assainissements \\x96 Génie urbain et ruralGéotechnique \\x96 Mécanique des sols \\x96 VRD \\x96 Géomatique et Sciences topographiquesBâtiments \\x96 Structures et Béton arméManagement \\x96 Sciences humainesObjectifs spécifiques de formationLe programme de formation de l\\x92ingénieur de conception en génie civil permet à l\\x92étudiant :d\\x92acquérir une formation pertinente à l\\x92ingénierie, dans les domaines des mathématiques, des sciences fondamentales et appliquées ;d\\x92acquérir une formation professionnelle nécessaire à la conception, au dimensionnement et à la réalisation d\\x92ouvrages et d\\x92infrastructures dans les domaines suivants :les travaux publics, les structures métalliques et/ou en béton des bâtiments et les équipements des bâtiments et ouvrages ;la maitrise, l\\x92aménagement et l\\x92utilisation optimale des ressources hydriquesles systèmes de production, de traitement ainsi que les réseaux de distribution d\\x92eaux potables, eaux usées et eaux pluviales ;les génies urbain et maritime ;3. d\\x92acquérir des connaissances en communications écrite et orale, en sciences humaines, en gestion technique, économique, finances et en législation et droit, en vue de se préparer à une pratique professionnelle efficace et responsable ; de consolider les connaissances acquises, par des activités de synthèse comme les stages et les immersions en l\\x92entreprise, les visites industrielles, les mémoires ou projets de fin d\\x92études.La formation vise à doter l\\x92ingénieur de compétences larges, basées sur la complémentarité des connaissances pluridisciplinaires scientifiques et techniques qui relèvent du Génie Civil.Secteurs d\\x92interventionBâtiment (structures, équipements techniques\\x85)Travaux publics (AEP, ponts, routes, terrassements\\x85)Aménagement urbain (voirie, assainissement, réseaux divers\\x85)\\xa0\\n\\n\\nLe département Génie Civil a commencé à dérouler sa formation depuis 1973, avec l\\x92appui d\\x92un corps professoral essentiellement canadien. Aujourd\\x92hui, le département compte vingt-six (26) enseignants : seize (16) permanents et dix (10) vacataires. Le corps des enseignants-chercheurs permanents compte : deux (02) professeurs titulaires, un (01) professeur assimilé, quatre (04) maîtres de conférences titulaires, trois (03) maîtres de conférences assimilés, cinq (05) assistants titulaires et un(01) professeur technique adjoint.Pour une adéquation de la formation avec le milieu professionnel, le département utilise également dans ses enseignements, des professionnels confirmés dans leurs domaines d\\x92activité.\\nListe des PER du département GC\\n\\n\\n \\n\\n                                Prénom                \\n\\n                                Nom                \\n\\n                                Grade                \\n\\n                                Spécialités                \\n\\n\\n\\nAlassane \\n\\n                                BA                \\n\\n                                Maître de conférences Titulaire                \\n\\n                                Topographie, Photogrammétrie                \\n\\n\\n\\nMamadou Lamine \\n\\n                                DIALLO                \\n\\n                                Maître de conférences Assimilé                \\n\\n                                Hydraulique, Exhaure et Pompes                \\n\\n\\n\\nEl Hadji Bamba \\n\\n                                DIAW                \\n\\n                                Professeur Titulaire                \\n\\n                                Hydraulique, Hydrologie, Hydrogéologie                \\n\\n\\n\\nMagatte \\n\\n                                DIOP                \\n\\n                                Maître de conférences Assimilé                \\n\\n                                Maître de conférences Assimilé                \\n\\n\\n\\nAbabacar \\n\\n                                FALL                \\n\\n                                Maître de conférences Titulaire                \\n\\n                                SIG, Télédétection et Génie Urbain                \\n\\n\\n\\nMouhamadou Masseck \\n\\n                                FALL                \\n\\n                                Assistant Titulaire                \\n\\n                                Assainissement des eaux, Hydraulique                \\n\\n\\n\\nCheikh Sadibou \\n\\n                                FAYE                \\n\\n                                Assistant Titulaire                \\n\\n                                Photogrammétrie et Télédétection                \\n\\n\\n\\nMamadou Lamine \\n\\n                                LO                \\n\\n                                Professeur Assimilé                \\n\\n                                Géotechnique, Constructions Métalliques                \\n\\n\\n\\nAlioune \\n\\n                                LY                \\n\\n                                Professeur technique adjoint                \\n\\n                                Chimie, Assainissement des eaux, Hydraulique                \\n\\n\\n\\nMamadou Samba \\n\\n                                DIALLO                \\n\\n                                Assistant Titulaire                \\n\\n                                Routes et Transport                \\n\\n\\n\\nFala  \\n\\n                                PAYE                \\n\\n                                Maître de conférences Titulaire                \\n\\n                                Béton armé                \\n\\n\\n\\nMame Balla  \\n\\n                                SALL                \\n\\n                                Assistant Titulaire                \\n\\n                                Résistance des matériaux                \\n\\n\\n\\nAbdoulaye \\n\\n                                SENE                \\n\\n                                Maître de conférences Assimilé                \\n\\n                                Technologie de construction                \\n\\n\\n\\nIbrahima  \\n\\n                                THIAM                \\n\\n                                Assistant Titulaire                \\n\\n                                Topographie                \\n\\n\\n\\nSeni \\n\\n                                TAMBA                \\n\\n                                Professeur Titulaire                \\n\\n                                Hydraulique, Machines hydrauliques, Ports et navigation                \\n\\n\\n\\nAliou Badara \\n\\n                                CAMARA                \\n\\n                                Maître de conférences Assimilé                \\n\\n\\n\\n\\n\\n',\n",
       " 'Initialement prévu parmi les axes du plan stratégique de l\\x92EPT à la suite de l\\x92autonomisation de celle-ci en 2009, le département du Génie Informatique et Télécommunications (GIT) fut créé dans la foulée par arrêté du Directeur de l\\x92EPT suite à une proposition du conseil pédagogique de l\\x92EPT. Toutefois, il n\\x92a ouvert ses portes qu\\x92en 2012-2013. Avec un démarrage par concours direct de niveau bac +2, et accompagné par le recrutement du corps enseignant. Les enseignements ont démarré en Mars 2013 suivant une modalité de formation en alternance en partenariat avec une entreprise privée. Les maquettes de formation ont fait l\\x92objet d\\x92une co-construction avec les entreprises partenaires aussi bien dans la phase de conception que dans la mise en \\x9cuvre des enseignements-apprentissages.La formation en Génie Informatique et Télécommunications (GIT) est dispensée depuis l\\x92année académique 2012-2013 et est portée, au sein de l\\x92EPT, par le département du Génie Informatique et Télécommunications (GIT). Elle a pour objectif de former des ingénieurs de conception généralistes dans les métiers des TIC.Le modèle pédagogique du GIT est inspiré de l\\x92Approche par Compétences (APC) dont le département a su faire une subtile adaptation. C\\x92est ainsi dans les maquettes pédagogiques, une importante place est réservée à la culture de l\\x92autonomie de l\\x92élève ingénieur et la centralité autour de l\\x92acquisition de compétences des apprenants est le fil conducteur de la mise en \\x9cuvre des programmes. Une autre caractéristique du modèle pédagogique est la flexibilité et l\\x92agilité permettant de s\\x92adapter aux besoins des entreprises et de la recherche développement. Chaque matière ou élément constitutif comporte une partie d\\x92enseignement sous forme de projet. Au-delà de ces projets par éléments constitutifs, chaque année, des projets transversaux sont conçus et encadrés par le corps de formateurs. Ils font l\\x92objet d\\x92un nombre de crédits à la hauteur d\\x92un enseignement ou unité d\\x92enseignement favorisant l\\x92association de plusieurs savoirs associés pour l\\x92acquisition de compétences professionnelles.Le département du GIT compte actuellement 9 enseignants-chercheurs permanents qui assurent 67% des enseignements sur le site de l\\x92EPT. Sept (8) d\\x92entre eux ont été recruté entre 2013 et 2020, et ils étaient tous de jeunes docteurs car ayant soutenu leur thèse après 2010 dont un professeur de rang A, maître de conférences CAMES, habileté à diriger des recherches. Les formateurs du GIT sont assez actifs comme chercheurs et produisent des publications de renommées internationales. Le Laboratoire LTISI monté au sein du GIT a déjà à son actif plusieurs thèses en informatiques encadrées entièrement par les enseignants chercheurs du département.Le corps enseignant fait preuve d\\x92un réel engagement, rendant ainsi collégial la gestion du département. Les enseignants assurent une bonne couverture scientifique à l\\x92internationale à travers leurs publications et certains ont même effectué et soutenu leur thèse à l\\x92étranger.Dans le modèle de formation en alternance du GIT, le reste des 33% des enseignements dispensés sur le site de l\\x92École sont assurés par des intervenants externes, qui nous proviennent des universités sénégalaises ou du monde socio-professionnel. Ils viennent porter main forte surtout sur des spécialités dont le département ne dispose pas encore. L\\x92expertise professionnelle est capitale pour mieux être en contact des évolutions dans les TIC, aussi bien en termes technologies que bonnes pratiques.Dans la phase d\\x92immersion des élèves ingénieurs du GIT, les managers des entreprises assurent plus de 70% de l\\x92encadrement en vraie situation de travail.En effet la formation en GIT est la première au Sénégal se faisant entièrement en alternance école-entreprise dans le supérieur public. Le programme d\\x92études proposé au GIT repose sur une approche par compétences (APC) et est Co-construit avec des entreprises partenaires spécialisées dans les TIC.Plus 6 enseignants sur 7 du GIT ont de l\\x92expérience dans l\\x92élaboration de référentiels de formation par l\\x92APC. L\\x92objectif de cette collaboration et de cette innovation pédagogique est de former des ingénieurs qui intègrent la culture de l\\x92entreprise et les compétences requises les rendant opérationnels avant la fin de leur formation. La base académique acquise à l\\x92EPT est alors consolidée par les entreprises qui assurent aux étudiants un solide complément d\\x92encadrement professionnel et métier.Ce qui permet aux élèves ingénieurs d\\x92allier théorie, pratique et mise en situation réelle durant tout leur cursus. L\\x92ensemble des projets de fin d\\x92études traite de sujets réels des entreprises.La base de recrutement du GIT à l\\x92instar des autres départements de cycle ingénieur de l\\x92EPT est le Tronc Commun (ou années préparatoires). Après les trois (3) premières promotions, toutes celles qui suivent sont constituées d\\x92élèves ingénieurs ayant fait le concours d\\x92entrée de niveau baccalauréat et ont suivi deux années préparatoires. Il s\\x92agit de quatre (4) semestres dont le dernier est un semestre qui prépare à la spécialisation avec des éléments constitutifs en informatique et télécommunications.Le département du GIT renforce l\\x92autonomie, la créativité et l\\x92innovation des élèves ingénieurs par la culture de la fabrication numérique par le biais d\\x92un Fablab. Celui-ci est le réceptacle de certains cours que les étudiants des années préparatoires font avant même d\\x92être entièrement sous la responsabilité du GIT.Le rapport de l\\x92évaluation du CITEF en 2014 a consacré le modèle du GIT comme une innovation. Le programme d\\x92études s\\x92emploie à maintenir une dynamique de qualité en maintenant un niveau d\\x92atteinte des standards de qualité tout en s\\x92ajustant aux besoins du monde socio-professionnel.Les objectifs des 5 années de formation en GIT, sont répartis comme suit :Le cycle préparatoire du TC (2 années : TC1 et TC2) initie les étudiants aux fondamentaux de base en mathématiques, en sciences physiques et chimiques, en informatique, en humanités (techniques de communications, gestion, etc.) nécessaires à l\\x92acquisition des spécialités des sciences de l\\x92ingénieur comme le GIT.Le cycle d\\x92ingénieur spécialisé du DIC (3 années : DIC1, DIC2, et DIC3) prépare les étudiants à diverses compétences (connaissances, aptitudes et savoir-faire) dans la modélisation, la réalisation, et le déploiement de systèmes d\\x92informations, de systèmes logiciels d\\x92entreprise, de systèmes de bases de données, de systèmes de sécurité logiciel, et de systèmes de qualité logicielle, de systèmes réseaux et télécoms. La Figure 1 qui suit décrit la répartition des contenus pédagogiques permettant l\\x92acquisition de ces compétences.\\n\\n\\nLes débouchésA l\\x92issue de leur formation, les ingénieurs diplômés du GIT de l\\x92EPT, peuvent servir dans les métiersd\\x92analyste,de concepteur,d\\x92architecte,de développeur,de testeur et d\\x92administrateur de systèmes logiciels métiers,de chef de projet métier,de chef d\\x92équipe technique,etc.Ils pourront ainsi intégrer toutes les sociétés et organisations évoluant dans les Technologies de l\\x92Information et de la Communications (TIC) et fournissant des services dans la production et la maintenance des systèmes de réseaux et télécommunications, des systèmes d\\x92informations, des systèmes de sécurité de réseaux informatiques et télécoms, des systèmes de bases de données, des systèmes de sécurité logicielle, et des systèmes de qualité logicielle.L\\x92ingénieur issu du GIT peut aussi poursuivre ses études dans des mastères spécialisés ou dans un cycle doctoral de recherche, à l\\x92EPT ou ailleurs, pour approfondir ses connaissances et faire évoluer son expertise dans le domaine de l\\x92informatique et des télécommunications.Le contenu des enseignementsLa formation en GIT vise des contenus pédagogiques qui permettent d\\x92acquérir six catégories de compétences (voir Tableau 2-2) que chaque étudiant se doit d\\x92acquérir à l\\x92issue de sa formation :Compétences \\x96 Eléments de compétences\\n\\n \\n\\n\\n\\n\\nwdt_ID Compétences Eléments de compétences \\n\\n\\n\\n\\n\\n1\\nDéveloppement\\n\\x96 Modélisation fonctionnelle et structurelle d\\x92un logiciel\\x96 Programmation métier d\\x92un logiciel\\x96 Choix des Langages de programmation adéquats\\x96 Gestion de la performance et de la robustesse algorithmique\\x96 Mise en \\x9cuvre des Tests fonctionnels et du Déploiement logiciel\\x96 Choix et Conception d\\x92une Architecture Logicielle\\x96 Choix et Conception d\\x92une architecture ergonomique logicielle et d\\x92une interface homme-machine (IHM)\\n\\n\\n2\\nGénie logiciel et Bases de données\\n\\x96 Mise en \\x9cuvre des démarches adaptées pour l\\x92intégration collaborative et continue d\\x92un environnement de développement logiciel\\x96 Mise en \\x9cuvre des Bonnes Pratiques connues et partagées du Génie Logiciel\\x96 Planification et Gestion de Projet logiciel Métier de bout en bout\\x96 Mise en \\x9cuvre d\\x92une sécurité logicielle en appliquant des Tests de vulnérabilité et politiques de sécurité normalisées\\x96 Conception et réalisation de Bases de Données\\x96 Administration de Bases de Données\\x96 Mise en \\x9cuvre des normes, des protocoles et des politiques de sécurité de bases de données\\n\\n\\n3\\nRéseaux informatiques et Télécommunications\\n\\x96 Conception et Dimensionnement de réseaux informatiques et télécoms d\\x92Entreprise\\x96 Administration Systèmes d\\x92exploitation\\x96 Déploiement et Administration de réseaux informatiques et télécoms\\x96 Mise en place d\\x92un environnement de Virtualisation et de Cloud\\x96 Gestion de la Sécurité des réseaux informatiques et télécoms\\n\\n\\n4\\nMathématiques pour l\\x92optimisation et la modélisation\\n\\x96 Outils Mathématiques pour les statistiques\\x96 Outils Mathématiques pour la modélisation numérique et stochastique\\x96 Outils Mathématiques pour la recherche opérationnelle\\x96 Outils mathématiques pour l\\x92analyse de données\\n\\n\\n5\\nHumanités\\xa0: Communication, Droit, et Relations Humaines\\n\\x96 Gestion de la Relation Client/Fournisseur\\x96 Imprégnation du droit, du droit du travail, de la régulation des TIC\\x96 Gouvernance des Systèmes d\\x92Informations\\x96 Gestion entrepreneuriale d\\x92un projet (Business Plan, Marchés d\\x92appels d\\x92offres, etc.)\\x96 Choix de canevas et Rédaction de rapports de mémoire et de communication\\x96 Communication en Français et en Anglais\\x96 Méthodologie de Recherche\\n\\n\\n6\\nRecherche et Entreprise\\n\\x96 Immersions en entreprise\\xa0: Intégration et adaptation en milieu professionnel\\x96 Mise en pratique de ses connaissances acquises dans la formation à l\\x92école et en entreprise\\x96 Application des règles de vie en milieu professionnel.\\x96 Production d\\x92un Mémoire de fin d\\x92études et Soutenance devant un Jury, à la suite des immersions en entreprise.\\n\\n \\n\\n\\n\\n Compétences Eléments de compétences \\n\\n\\n\\n\\n\\n\\nSur le plan de la recherche, les PER du département du GIT se sont réunis et ont fédéré leurs expertises pour monter un laboratoire de recherche au sein de l\\x92EPT en 2014. Il s\\x92agit du Laboratoire Traitement de l\\x92Information et Systèmes Intelligents (LTISI).Le Service Coordination de la Recherche et de l\\x92Innovation Technologique \\xa0(SCRIT) de l\\x92EPT héberge tous les laboratoires de recherche de l\\x92EPT notamment le LTISI.Le LTISI est espace propice à la production, au partage et à la diffusion de connaissances scientifiques et technologique autour des thématiques liées au numérique et aux TIC. Les PER se sont répartis en équipes de recherche sur des problématiques commel\\x92Intelligence Artificielle,l\\x92Ingénierie des Connaissances,l\\x92Analyse de Données,l\\x92Apprentissage Automatique,le Traitement du Signal et des Images,les Big Data,la Recherche Opérationnelle,la Sécurité,les Télécommunications,l\\x92IoTetc.Une dizaine de doctorants ont été encadrée par les PER du GIT depuis 2014, dont 4 ont soutenu leur thèse. Les PER, à travers le LTISI, font preuve d\\x92une grande preuve d\\x92expérience d\\x92organisation de manifestations scientifiques tant à l\\x92échelle nationale que internationale. Il s\\x92agit\\xa0:du CNRIA 2015 (Colloque National sur la Recherche en Informatique et ses Applications),de l\\x92EMA 2017 (Écoles Mathématiques Africaines), et enfindu CARI 2020 (Colloque Africain sur la Recherche en Informatique)Liste des PER du département GITListe des PER du département GIT\\n\\n \\n\\n\\n\\n\\nwdt_ID Nom Grade national Grade CAMES Fonctions Spécialités Enseignement & Recherche Année de recrutement \\n\\n\\n\\n\\n\\n1\\nPr Oumar NIANG\\nProfesseur Titulaire\\nProfesseur Titulaire\\nEnseignant chercheur,Directeur du Laboratoire LTISI,oniang@ept.sn\\nModélisation mathématique, analyse numérique, traitement et Analyse des signaux et images\\n2003\\n\\n\\n2\\nDr Abdoulaye GUISSE\\nMaître de conférences Titulaire\\nMaître assistant\\nEnseignant chercheur,Chef du Département du GIT,aguisse@ept.sn\\nIngénierie des connaissances, Modélisation des SI, Génie Logiciel, Web sémantique, Fouille de textes et NLP\\n2013\\n\\n\\n4\\nDr Abdoul Aziz CISS\\nMaître de conférences Titulaire\\nMaître assistant\\nEnseignant chercheur,aaciss@ept.sn\\nSécurité, cryptographie, Bases de Données\\n2013\\n\\n\\n5\\nDr Ndeye Fatou NGOM\\nMaître de conférences Titulaire\\nMaître assistant\\nEnseignant chercheur,Responsable pédagogique de la DIC 3, Responsable de la cellule assurance qualité de l\\x92EPT,fngom@ept.sn\\nTraitements des signaux et images, Vision par ordinateur, analyse de données, et apprentissage automatique\\n2013\\n\\n\\n6\\nDr Mamadou Diallo DIOUF\\nMaître de conférences Titulaire\\nMaître assistant\\nEnseignant chercheur, Adjoint au Service de relations extérieures de l\\x92EPT,mddiouf@ept.sn\\nRéseaux Informatiques et Télécommunications\\n2013\\n\\n\\n7\\nDr Ibrahima GUEYE\\nMaître de conférences Titulaire\\nMaître assistant\\nEnseignant chercheur, Responsable Fablab de l\\x92EPT,igueye@ept.sn\\nIntégration de données, traitement du Big data, cloud computing, IoT\\n2015\\n\\n\\n8\\nDr Ahmed Mouhamadou WADE\\nMaître de conférences Titulaire\\nMaître assistant\\nEnseignant chercheur,Responsable pédagogique de la DIC1, Responsable de la division Logicielles & Formations du CRI de l\\x92EPT,awade@ept.sn\\nCalcul distribué, théorie des graphes, théorie de la complexité, réseaux informatiques, IoT\\n2015\\n\\n\\n9\\nDr Samba SIDIBE\\nMaître de conférences Titulaire\\nMaître assistant\\nEnseignant chercheur, Responsable pédagogique de la DIC2,ssidibe@ept.sn\\nIngénierie des connaissances, Développement JEE, traitement des signaux et images\\n2015\\n\\n \\n\\n\\n\\n\\n\\n\\nL\\x92aventure de cette formation en alternance débute avec un partenariat fort, entre l\\x92EPT et le Groupe IDYAL SA, une entreprise franco-sénégalaise, qui s\\x92était engagée à nous accompagner sur cinq années entre 2013 et 2018. Ensuite, une dizaine d\\x92autres entreprises partenaires, d\\x92envergure internationale, nous ont rejoint dans cette démarche de co-formation. Nous pouvons citer : Sonatel (depuis 2016), ADN Corp. (depuis 2017), 2SI (depuis 2017), AKKA Maroc (depuis 2019), OuiCarry (depuis 2019), SunTelecoms (depuis 2019), Chaka Computer (depuis 2015), Gainde2000 (depuis 2019), Catalyst (2016-2018), Sentrust (2016-2017), People Input (2015-2017).Le tableau suivant est un récapitulatif des effectifs d\\x92étudiants accueillis par les entreprises durant les immersions dans le cadre de l\\x92alternance.Effectifs d\\x92étudiants accueillis par les entreprises durant les immersions\\n\\n \\n\\n\\n\\n\\nwdt_ID Partenaire Nbr. d\\x92étudiants formés Années de collaboration \\n\\n\\n\\n\\n\\n1\\nSONATEL\\n36\\n2016 \\x96 2021\\n\\n\\n2\\nADN Corp.\\n8\\n2017 \\x96 2020\\n\\n\\n3\\nGainde2000\\n4\\n2012 \\x96 2019\\n\\n\\n4\\n2SI\\n5\\n2017 \\x96 2020\\n\\n\\n5\\nAKKA Maroc\\n4\\n2019 \\x96 2020\\n\\n\\n6\\nATPS\\n2\\n2019 \\x96 2020\\n\\n\\n7\\nTeamX\\n1\\n2020\\n\\n\\n8\\nCatalyst\\n15\\n2016-2018\\n\\n\\n9\\nChaka Computer\\n8\\n2015-2017\\n\\n\\n10\\nPeople Input\\n3\\n2015-2017\\n\\n \\n\\n\\n\\n Partenaire Nbr. d\\x92étudiants formés Années de collaboration \\n\\n\\n\\n\\n\\n\\nA travers cette formule, le département a pu former des ingénieurs directement opérationnels et absorbés par des entreprises locales ou internationales. Le taux d\\x92insertion avoisine les 100% et pour toutes les cinq premières promotions, entre 2015 et 2019. Seuls quelques-uns des ingénieurs ont poursuivi dans des cursus académique masters spécialisés et de doctorats.Le dispositif de la formation en alternanceLa formation en GIT se fait exclusivement en alternance durant tout le cycle ingénieur (les 3 dernières années), l\\x92élève-ingénieur a un temps de présence de :50% à l\\x92école et 50% en entreprise durant la première année de spécialisation, en DIC1. Chaque étudiant passe 6 mois à l\\x92EPT pour la validation 46 crédits d\\x92enseignements, et 4 à 6 mois minimum de stage pour la validation de 14 crédits liés à son immersion pédagogique en entreprise.40% à l\\x92école et 60% en entreprise durant la deuxième année de spécialisation. Chaque étudiant passe 5 mois à l\\x92EPT pour la validation 42 crédits d\\x92enseignements, et 5 à 7 mois minimum de stage pour la validation de 18 crédits liés à son immersion pédagogique en entreprise.Et enfin 25% à l\\x92école et 75% en entreprise durant la troisième année de spécialisation. Chaque étudiant passe 4 mois à l\\x92EPT pour la validation de 30 crédits d\\x92enseignements, et 6 à 8 mois minimum de stage pour la validation de 18 crédits liés à son immersion pédagogique en entreprise.L\\x92alternance est réglementée dans une convention cadre qui couvre le partenariat entre l\\x92EPT et une entreprise partenaire pour une durée déterminée. Chaque immersion d\\x92un étudiant dans une entreprise est encadrée par un contrat de stage pédagogique tripartite entre l\\x92entreprise, l\\x92EPT et l\\x92étudiant en question. Ce contrat précise les conditions d\\x92accueil, du déroulement du stage, et les attentes des différentes parties.Le suivi et l\\x92évaluation de l\\x92alternance sont pris en charge par un comité de pilotage (CP) et un comité paritaire pédagogique (CPP). Le premier est composé par les dirigeants des deux structures (l\\x92entreprise et de l\\x92EPT). Il se réunit chaque fois que de besoin pour examiner toutes questions utiles au bon déroulement du partenariat. Le CP gère la caution administrative du partenariat.Le second a un rôle de suivi scientifique du déroulement des immersions. Il réunit l\\x92ensemble des enseignants du département du GIT et l\\x92ensemble des employés de l\\x92entreprise, des manageurs chargés d\\x92encadrer et de coacher les étudiants.Le CPP se réunit généralement au début et à la fin de chaque immersion. Au début des immersions, le CPP se charge entre autres de préparer le cadre administratif d\\x92accueil des étudiants en entreprise qu\\x92il soumet au CP pour validation. Il se charge surtout de décliner les contenus pédagogiques des projets soumis aux étudiants et de mettre en place l\\x92environnement matériel et technique nécessaires à la réalisation des projets.Le CPP se réunit aussi à la fin d\\x92une immersion pour faire le bilan. Cela conduit à un réajustement de certains choix pédagogiques, et à l\\x92évaluation du comportement technique et professionnel de chaque étudiant. Un atelier de clôture y est aussi généralement organisé par l\\x92entreprise pour permettre aux étudiants de présenter leurs travaux réalisés durant leur séjour, sous la présence des deux comités de suivi (le CP et le CPP).La relation avec le monde socio-économique se démontre aussi avec les distinctions que des étudiants de l\\x92EPT de formation GIT ont pu décrocher, ainsi que l\\x92offre de formation elle-même. L\\x92alternance produit une bonne visibilité de l\\x92EPT à l\\x92extérieur à travers ses partenaires. Nos étudiants sont très souvent invités à participer à des challenges liés aux TIC, qui mettent en compétitions plusieurs étudiants au niveau national et international.\\nVoici quelques-unes de ces distinctions :\\n\\nLe département GIT a reçu une nomination Jambar Tech dans la catégorie meilleure formation 2016 en TIC, édition 2017.\\nUne bourse d\\x92études doctorales pour un étudiant en GIT dans le Centre d\\x92excellence africain CEA-SMA de Cotonou.\\nA l\\x92occasion du Hackathon de Orange en 2018, un groupe d\\x92étudiants en GIT, est sorti vainqueur avec leur projet Chatbot facilitant la vie aux usagers de AIBD.\\nA l\\x92occasion d\\x92un concours international sur le Machin Learning en 2019, un groupe d\\x92étudiants en GIT a été finaliste.\\nA l\\x92occasion du IT compétition international de Huawei en Chine 2019 avec la 4ième place mondiale pour le Sénégal. Le représentant de l\\x92EPT, un étudiant en GIT, M. Mohamed Ndiaye était en tête de file de l\\x92équipe du Sénégal. Il a eu la deuxième meilleure note théorique.\\nA l\\x92occasion de la première édition de Huawei IT Compétition en 2019 au Sénégal, les deux représentants du département GIT de l\\x92EPT sont sortis par deux fois dans les 5 premières places et le major par deux fois a été aussi M. Mohamed Ndiaye, devant près de 500 candidats issus des différents établissements d\\x92enseignement supérieur du Sénégal.\\nA l\\x92occasion de la première édition de Huawei IT Compétition en 2020 au Sénégal, un groupe de 3 étudiants est sorti vainqueur dans la thématique Intelligence Artificielle (Cloud Computing). Ce groupe représentera le Sénégal à la finale de la compétition internationale en Egypte.\\n\\nPar ailleurs, bien que prévu initialement dans les missions et les objectifs de formation de l\\x92EPT, la mise en place d\\x92un département en charge de la formation en GIT, s\\x92est amorcée suite à un atelier (du jeudi 28 février au vendredi 1er mars 2013) regroupant des académiques du supérieur et des professionnels, experts des TIC.\\nDans le cadre de l\\x92alternance et à travers le comité paritaire pédagogique (CPP), des commandes spécifiques proviennent des entreprises partenaires pour la mise à jour (MAJ) des programmes d\\x92études exécutés à l\\x92école, afin de faciliter l\\x92adaptation des étudiants en entreprise. Ces MAJ sont généralement des suppléments pédagogiques sous forme de séminaires pour initier les étudiants à des technologies particulièrement utilisées par un partenaire donné. D\\x92ailleurs, l\\x92EPT s\\x92appuie du partenariat, pour inviter des spécialistes de cette entreprise à venir animer ces séminaires.\\nLes programmes du GIT ont aussi fait l\\x92objet, en 2014, au courant de sa deuxième promotion, d\\x92une évaluation par une délégation étrangère de la Conférence internationale des Formations d\\x92Ingénieurs et de Techniciens d\\x92Expression Française (CITEF) sur la demande du MESRI. Le CITEF avait, dans son rapport, apprécié positivement le caractère innovant de l\\x92offre de formation GIT.\\nToute la recherche à l\\x92EPT est coordonnée à travers le Service Coordination de la Recherche et de l\\x92Innovation Technologique (SCRIT), créé en 2013 par arrêté N° 000041 MESR/EPT/DIR du 02 janvier 2013, avec pour missions, la redynamisation du secteur de la recherche et la promotion de l\\x92Innovation à l\\x92Ecole Polytechnique de Thiès. Un des objectifs visés par l\\x92EPT est la visibilité et le partage des recherches et des projets en innovation au niveau national et à l\\x92étranger, le SCRIT s\\x92attache:\\n\\nà cibler les efforts de recherche sur des priorités économiques et sociétales définies au plus\\n\\nhaut niveau de l\\x92Etat et en concertation avec les autres acteurs de la recherche des autres institutions ;\\n\\nà favoriser la créativité, le décloisonnement, les émergences et les partenariats ;\\nà encourager les interactions entre disciplines ;\\nà intensifier les liens public-privé :\\net à développer les collaborations internationales en matière de recherche et d\\x92innovation.\\n',\n",
       " '\\nPrésentation\\n\\nDepuis 2001, l\\x92Etat sénégalais a engagé la réforme du secteur de l\\x92Enseignement supérieur, intégré au Programme Décennal de l\\x92Education et de la Formation (PDEF), avec la mise sur pied d\\x92une commission «Carte universitaire » chargée de proposer un schéma directeur d\\x92élargissement de l\\x92accès au supérieur et une diversification de l\\x92offre de formation, articulés à une décentralisation qui devait désengorger la principale université, Cheikh Anta DIOP, aux effectifs insoutenables, et faire monter en puissance l\\x92université Gaston Berger.\\nUne option stratégique a consisté à dessiner une nouvelle carte universitaire décentralisée s\\x92appuyant sur une profonde réforme en plusieurs plans, notamment:\\n\\nUne carte Universitaire planifiée dans l\\x92espace et dans le temps ;\\nUne professionnalisation de l\\x92enseignement et de la formation ;\\nUne diversification des filières et des établissements ;\\nUne valorisation des ressources nationales et régionales ;\\nUn élargissement de la gouvernance des structures de l\\x92enseignement supérieur aux représentants du monde du travail et des collectivités locales ou décentralisées\\nUne spécialisation des universités régionales et des Collèges Universitaires Régionaux avec des dominantes;\\nUne orientation des nouvelles universités vers le développement économique : filières scientifiques et technologiques, filières de gestion, de transport maritime et aérien et professionnalisation des filières actuelles de droit et de lettres.\\nC\\x92est dans cette mouvance que le gouvernement du Sénégal a décidé, dans un premier temps, l\\x92ouverture de l\\x92Université de Thiès à partir de la fusion de quatre écoles de formation d\\x92ingénieurs, à savoir l\\x92ESP centre de Thiès (ancienne Ecole Polytechnique de Thiès), l\\x92ENSA, l\\x92IST et l\\x92ENCR de Bambey.\\n\\nMais depuis juin 2009, par décret 2009-586 du 18 juin 2009, l\\x92École Polytechnique de Thiès, suite à son rattachement direct au Ministère chargé de l\\x92enseignement supérieur, a retrouvé une autonomie vis-à-vis de l\\x92Université de Thiès.\\nJusqu\\x92en 1970, le centre de gravité du développement des formations d\\x92ingénieurs s\\x92est situé largement à distance des structures universitaires traditionnelles, avec pour conséquence une séparation organique rarement mise en débat entre disciplines scientifiques d\\x92un côté, disciplines de l\\x92ingénierie de l\\x92autre, et plus encore la cristallisation de différences de culture, plus durable par nature dans le temps (rapport à la sélection et à l\\x92élitisme, relation au savoir et aux approches disciplinaires).\\nHistorique\\nLe 25 mai 1973, son Excellence Léopold Sédar SENGHOR, Président de la République du Sénégal, décrète la création de l\\x92Ecole Polytechnique de Thiès. L\\x92Ecole polytechnique de Montréal en accepte le parrainage au cours de son implantation progressive.\\n\\n\\nDe 1973, date de sa création à 1982, aux termes des décrets N°73-493 du 25 mai 1973, et N°74-1282 du 23 décembre 1974, l\\x92Ecole Polytechnique de Thiès (EPT) est érigée en établissement militaire d\\x92enseignement supérieur à encadrement militaire et placée sous la double tutelle du Ministère des Forces Armées et du Ministère de l\\x92Education Nationale.\\n\\n\\n\\nA partir de 1982, débute la phase de recrutement d\\x92enseignants permanent sénégalais ; à cette date le corps enseignant était composé essentiellement de canadiens et de vacataires sénégalais.\\n\\n\\n\\nDe 1982 à 1992, l\\x92EPT passe sous administration militaire complète aux termes des dispositions du décret 82-545 du 03 août 1982 ;\\n\\n\\n\\nAu mois de juillet 1992, l\\x92EPT change de statut. L\\x92Ecole est érigée en établissement public rattaché à l\\x92université Cheikh Anta Diop de Dakar (UCAD). Ce changement de statut est régi par la loi 92-38 du 09 juillet 1992 et les décrets d\\x92application N°92-1261 et 92-1268 du 14 septembre 1992 ;\\n\\n\\n\\nAu mois de Novembre 1994, dans le cadre de la réforme de l\\x92Enseignement Supérieur, un nouveau changement de statut intervient. La loi 94-78 du 24 novembre 1994 portant création de l\\x92Ecole Supérieure Polytechnique (ESP) comme établissement rattaché à l\\x92UCAD, consacre la fusion de l\\x92EPT avec les divisions industrielles de l\\x92ENSUT et de l\\x92ENSETP ;\\nLe 11 janvier 2007, est ouverte l\\x92Université de Thiès à partir de la réunion de quatre écoles de formation d\\x92ingénieurs, à savoir l\\x92ESP centre de Thiès (ancienne Ecole Polytechnique de Thiès), l\\x92ENSA, l\\x92IST et l\\x92ENCR de Bambey ;\\nEn juin 2009, aux termes du décret 2009-586, l\\x92EPT quitte l\\x92université de Thiès pour redevenir un établissement autonome et rattaché directement au Ministère de l\\x92enseignement supérieur de la Recherche et de l\\x92Innovation.\\n\\n \\n{{CODEorgjscode}}\\n\\n\\n\\n ',\n",
       " '\\nDIRECTION DES ÉTUDES  \\nLes missions du Directeur des Etudes s\\x92inscrivent dans le cadre des dispositions relatives à l\\x92organisation interne, du décret 2009-586 du 18 juin 2009 portant création, organisation et fonctionnement de l\\x92EPT.Relevant du directeur, le Directeur des Etudes est responsable de chacun des aspects reliés à l\\x92administration des programmes d\\x92études de l\\x92EPT, et dans le cadre des structures administratives existantes, de l\\x92atteinte de ses objectifs académiques. A cet égard, il veille à la mise en \\x9cuvre, la promotion et l\\x92adhésion au plan stratégique dans le secteur académique. Son rôle est de coordonner toutes les activités liées à l\\x92organisation, au fonctionnement et à l\\x92évolution de tout ce qui relève de la pédagogie de l\\x92Ecole, et ce, en collaboration avec les autres gestionnaires sous l\\x92approbation du Directeur.Les départements et services sur lesquels le Directeur des Etudes s\\x92appuie dans l\\x92exercice de ses missions sont :\\xa0Le département de Tronc Commun\\xa0;Le département de Génie Civil\\xa0;Le département de Génie Electromécanique (intégrant la filière aéronautique)\\xa0;Le département de Génie Informatique et télécommunications\\xa0;Le service de la Scolarité\\xa0;Le service d\\x92Information Documentaire\\xa0;Le service de l\\x92imprimerie et de la Reprographie. \\n \\nPr. Mamadou WADE \\nDirecteur des études \\n\\n\\n\\nEnvelope\\n \\n\\n\\n\\nLink\\n \\n\\n\\n\\nWhatsapp\\n \\n\\n\\n',\n",
       " 'Lï¿½objectif du programme dï¿½ï¿½tudes en vigueur ï¿½ lï¿½EPT est de former, dans les domaines du gï¿½nie civil, gï¿½nie ï¿½lectromï¿½canique, gï¿½nie informatique & tï¿½lï¿½communications et aï¿½ronautique, des ingï¿½nieurs de conception de haut niveau au service du dï¿½veloppement. Le cycle de formation de 5 ans, ouvert aux bacheliers scientifiques et/ou techniques, aprï¿½s concours, se subdivise en deux parties : le Tronc Commun (2 ans) et la Spï¿½cialisation (3 ans). Lï¿½admission des ï¿½lï¿½ves en premiï¿½re annï¿½e du premier cycle ï¿½ lï¿½EPT se fait par voie de concours parmi les titulaires du baccalaurï¿½at des sï¿½ries scientifiques et/ou techniques, ï¿½gï¿½s de moins de 22 ans au 1er octobre de lï¿½annï¿½e dï¿½admission. Chaque annï¿½e, le concours se tient au mois de juin avant les ï¿½preuves du baccalaurï¿½at. Des centres dï¿½examens sont ouverts dans toutes les rï¿½gions du Sï¿½nï¿½gal.Le cursus dï¿½Ingï¿½nieurLa formation dure cinq (5) ansï¿½:Le Tronc Communï¿½: il dure deux (02) ans et permet aux ï¿½lï¿½ves ingï¿½nieurs de maitriser les outils mathï¿½matiques (Analyse numï¿½rique, calcul diffï¿½rentiel et intï¿½gralï¿½), les sciences fondamentales (physique, chimie de lï¿½ingï¿½nieur, mï¿½canique statique, mï¿½canique des fluides, science des matï¿½riaux), lï¿½informatique et les langues (Franï¿½ais, Anglais).Au 4e semestre, lï¿½ï¿½lï¿½ve ingï¿½nieur entame des matiï¿½res de spï¿½cialitï¿½ liï¿½es ï¿½ son orientation.La Spï¿½cialisationï¿½: cette partie de la formation dure trois ans et sa rï¿½ussite est sanctionnï¿½e par un Diplï¿½me dï¿½Ingï¿½nieur de Conception. Aujourdï¿½hui, lï¿½EPT dï¿½livre quatre diplï¿½mesï¿½:Diplï¿½me dï¿½Ingï¿½nieur de Conception Gï¿½nie CivilDiplï¿½me dï¿½Ingï¿½nieur de Conception Gï¿½nie ï¿½lectromï¿½caniqueDiplï¿½me dï¿½Ingï¿½nieur de Conception Gï¿½nie Informatique et tï¿½lï¿½communicationsDiplï¿½me dï¿½Ingï¿½nieur de Conception Gï¿½nie Aï¿½ronautiqueDurant la spï¿½cialisation, les ï¿½lï¿½ves-ingï¿½nieurs sont appelï¿½s ï¿½ participer activement ï¿½ des travaux de laboratoires, des travaux pratiques de terrain, ï¿½ des stages industriels (2 stages de 6 semaines chacun) et ï¿½ soutenir un projet de fin dï¿½ï¿½tudes portant sur une rï¿½solution de problï¿½mes pratiques posï¿½s dans lï¿½industrie.Par ailleurs, des cours de technique de communication, de management, de gestion, de comptabilitï¿½, de lï¿½gislation et droit, sont intï¿½grï¿½s dans le cursus afin de sensibiliser les ï¿½lï¿½ves-ingï¿½nieurs aux diffï¿½rents problï¿½mes auxquels les cadres dï¿½entreprise sont continuellement confrontï¿½s. Cela permet dï¿½intï¿½grer des connaissances et aptitudes fondamentales du mï¿½tier de lï¿½ingï¿½nieur.En plus, des stages ouvriers et de maï¿½trise destinï¿½s ï¿½ sensibiliser les futurs Ingï¿½nieurs, aux problï¿½mes auxquels le cadre dï¿½entreprise moderne est susceptible dï¿½ï¿½tre confrontï¿½, viennent complï¿½ter la formation de base.Programme de Formation et de RechercheLï¿½EPT a mis en place un Master de Recherche en Gï¿½nies et ï¿½nergies Renouvelables (Master interuniversitaire avec les Universitï¿½s Gaston Berger de Saint Louis, Alioune DIOP de Bambey et Assane Seck de Ziguinchor).Lï¿½EPT compte ï¿½galement dans son effectif des ï¿½tudiants doctorants en collaboration avec les ï¿½coles doctorales des universitï¿½s de Dakar (PCSTUI, etc.) et de Thiï¿½s (ED2DS).ï¿½ ',\n",
       " '\\nGénies et Energies RenouvelablesL\\x92Ecole Polytechnique de Thiès, les Universités de Saint-Louis, Bambey, Ziguinchor et Thiès, avec le soutien d\\x92industriels lancent un master interuniversitaire en Génies et Energies Renouvelables dans le domaine des énergies renouvelables, des matériaux , structures et\\xa0hydraulique.Un programme de formation qui réunit un ensemble d\\x92universités sénégalaises. Un enseignement renforcé par la contribution de partenaires industriels de grande renommée qui apportent une expertise technique et scientifique ainsi qu\\x92une approche professionnelle aux étudiants.Objectifs et débouchés\\xa0Ce programme à forte teneur Scientifique, a\\xa0pour objectifs :De préparer les étudiants pour des carrières \\xa0dans la recherche avancée et la gestion des énergies renouvelables et du génie civil.De former des chercheurs qui contribueront\\xa0à la définition et à la mise en \\x9cuvre de\\xa0stratégies et de politiques énergétiques de\\xa0groupes industriels, de petites structures\\xa0innovantes ou d\\x92organismes publics.innovantes ou d\\x92organismes publics.Quelques débouchésDoctorat dans un laboratoire académiqueCarrières dans des domaines techniques et développement durable du secteur énergétique ou du génie civil.Développement de PMEORGANISATION DU MASTERLe master est composé de trois semestres de cours organisés autour de thématiques scientifiques et un semestre de stage de recherche dans un laboratoire public ou privé.Les cours sont assurés par des universitaires, mais\\xa0aussi par des professionnels issus d\\x92entreprises.COMMENT S\\x92INSCRIRE ?Les étudiants intéressés par ce programme peuvent déposer un dossier de candidature au secrétariat du département de génie Électromécanique\\xa0de l\\x92EPTLes cours ont lieu sur le campus de l\\x92Ecole Polytechnique de Thiès. ']"
      ]
     },
     "execution_count": 2,
     "metadata": {},
     "output_type": "execute_result"
    }
   ],
   "source": [
    "contents"
   ]
  },
  {
   "cell_type": "code",
   "execution_count": 3,
   "metadata": {},
   "outputs": [],
   "source": [
    "from langchain_text_splitters import RecursiveCharacterTextSplitter\n",
    "\n",
    "text_splitter = RecursiveCharacterTextSplitter(\n",
    "    chunk_size = 375,\n",
    "    chunk_overlap = 20,\n",
    "    length_function = len,\n",
    "    separators= [\n",
    "        \"\\n\",\n",
    "        \"\\n\\n\",\n",
    "        \" \",\n",
    "        \".\",\n",
    "        \",\",\n",
    "        \"\\u200b\",\n",
    "        \"\\uff0c\",\n",
    "        \"\\u3001\",\n",
    "        \"\\uff0e\",\n",
    "        \"\\u3002\",\n",
    "        \"\"\n",
    "    ]\n",
    ")"
   ]
  },
  {
   "cell_type": "code",
   "execution_count": 4,
   "metadata": {},
   "outputs": [],
   "source": [
    "all_docs = text_splitter.create_documents(contents)"
   ]
  },
  {
   "cell_type": "code",
   "execution_count": 11,
   "metadata": {},
   "outputs": [
    {
     "data": {
      "text/plain": [
       "[Document(page_content=\"Quelle est l'age limite pour pouvoir faire le concours?La limite d\\x92âge est de 22 ans au premier octobre 2021 et tout dossier irrecevable sera classé sans suite et sans remboursement des frais déjà payés.\"),\n",
       " Document(page_content='Quels sont les eleves qui peuvent se presenter au concours?Le concours est ouvert aux élèves des classes de terminales scientifiques ou techniques (S1, S2, S3, T1, T2), mais également aux bacheliers et candidats libres aux baccalauréats (S1, S2, S3, T1, T2).'),\n",
       " Document(page_content='Les candidats seront évalués sur quelles matieres?Les matières à traiter sous forme de questions à choix multiples (QCM) sont : Mathématiques, Physique, Français, Anglais. La durée des épreuves est de trois heures.\\nOù puis-je trouver des epreuves des années précédentes?Vous pouvez télécharger des épreuves à partir de l\\x92onglet anciennes épreuves'),\n",
       " Document(page_content='Quel est le delai maximal pour envoyer mon relevé?Pour les candidats des classes de terminale, en cas de réussite au bac, ils sont priés d\\x92envoyer la photocopie légalisée du relevé du bac dans les dix jours suivant la proclamation des résultats.'),\n",
       " Document(page_content=\"Quelle est la durée de la formation à l'ept?La formation dure 05 années et est sanctionnée par le Diplôme d\\x92Ingénieur de Conception en Génie Civil,en Génie Électromécanique, en Génie Informatique & Télécommunications , en Génie Aéronautique et en Génie Industriel.\")]"
      ]
     },
     "execution_count": 11,
     "metadata": {},
     "output_type": "execute_result"
    }
   ],
   "source": [
    "all_docs[:5]"
   ]
  },
  {
   "cell_type": "markdown",
   "metadata": {},
   "source": [
    "### Enrichment with keywords and questions_answered"
   ]
  },
  {
   "cell_type": "code",
   "execution_count": 6,
   "metadata": {},
   "outputs": [],
   "source": [
    "from langchain_openai.chat_models import ChatOpenAI\n",
    "from langchain.prompts import PromptTemplate\n",
    "from langchain_core.runnables import RunnablePassthrough\n",
    "from langchain_core.output_parsers import StrOutputParser\n",
    "from langchain_core.documents import Document\n",
    "import time\n",
    "import warnings\n",
    "\n",
    "warnings.filterwarnings(\"ignore\")\n",
    "\n",
    "\n",
    "llm = ChatOpenAI(\n",
    "    openai_api_base = \"https://api.groq.com/openai/v1\",\n",
    "    model=\"llama3-70b-8192\",\n",
    "    temperature=0.7,\n",
    "    api_key=\"YOUR_KEY\"\n",
    ")"
   ]
  },
  {
   "cell_type": "code",
   "execution_count": 7,
   "metadata": {},
   "outputs": [],
   "source": [
    "keyword_temp = \"\"\"\n",
    "<|start_header_id|>system<|end_header_id|>\n",
    "Given a text as input determine its keywords.\n",
    "Keywords are the most important words or group of words in reference to the given text, they give an overview of what is being adressed from it.\n",
    "Only extract three keywords while making sure they are the most relevant ones.\n",
    "You response should only consist of those three keywords do add any text apart from it\n",
    "This is very important never give more than three keywords and only answer in French.\n",
    "<|eot_id|>\n",
    "<|start_header_id|>user<|end_header_id|>\n",
    "Text: {text}\n",
    "<|eot_id|>\n",
    "<|start_header_id|>assistant<|end_header_id|>\n",
    "Keywords:\n",
    "\"\"\"\n",
    "keyword_prompt = PromptTemplate.from_template(keyword_temp)\n",
    "\n",
    "keyword_chain = (\n",
    "    {'text': RunnablePassthrough()}\n",
    "    | keyword_prompt\n",
    "    | llm\n",
    "    | StrOutputParser()\n",
    ")\n",
    "\n",
    "questions_temp = \"\"\"\n",
    "<|start_header_id|>system<|end_header_id|>\n",
    "Given a text as input determine the questions that it could answer to. Extract exactly three questions while making sure they are the most relevant ones.\n",
    "You response should only consist of those three questions do add any text apart from it\n",
    "This is very important never give more than three keywords and only answer in French.\n",
    "<|eot_id|>\n",
    "<|start_header_id|>user<|end_header_id|>\n",
    "Text: {text}\n",
    "<|eot_id|>\n",
    "<|start_header_id|>assistant<|end_header_id|>\n",
    "Keywords:\n",
    "\"\"\"\n",
    "questions_prompt = PromptTemplate.from_template(questions_temp)\n",
    "\n",
    "questions_chain = (\n",
    "    {'text': RunnablePassthrough()}\n",
    "    | questions_prompt\n",
    "    | llm\n",
    "    | StrOutputParser()\n",
    ")"
   ]
  },
  {
   "cell_type": "code",
   "execution_count": 8,
   "metadata": {},
   "outputs": [],
   "source": [
    "final_docs = []\n",
    "\n",
    "start_idx = 0\n",
    "for end_idx in range(0, len(all_docs), 30)[1:-1]:\n",
    "    for doc in all_docs[start_idx:end_idx]:\n",
    "        questions = questions_chain.invoke(doc.page_content)\n",
    "        keywords = keyword_chain.invoke(doc.page_content)\n",
    "        final_docs.append(\n",
    "            Document(\n",
    "                page_content=doc.page_content,\n",
    "                metadata = {\n",
    "                    \"keywords\": keywords,\n",
    "                    \"questions_answered\": questions\n",
    "                }\n",
    "            )\n",
    "        )\n",
    "    start_idx = end_idx\n",
    "    time.sleep(60)\n",
    "\n",
    "for doc in all_docs[end_idx:len(all_docs)]:\n",
    "        questions = questions_chain.invoke(doc.page_content)\n",
    "        keywords = keyword_chain.invoke(doc.page_content)\n",
    "        final_docs.append(\n",
    "            Document(\n",
    "                page_content=doc.page_content,\n",
    "                metadata = {\n",
    "                    \"keywords\": keywords,\n",
    "                    \"questions_answered\": questions\n",
    "                }\n",
    "            )\n",
    "        )"
   ]
  },
  {
   "cell_type": "code",
   "execution_count": 10,
   "metadata": {},
   "outputs": [
    {
     "data": {
      "text/plain": [
       "[Document(page_content=\"Quelle est l'age limite pour pouvoir faire le concours?La limite d\\x92âge est de 22 ans au premier octobre 2021 et tout dossier irrecevable sera classé sans suite et sans remboursement des frais déjà payés.\", metadata={'keywords': 'Concours, âge, limite', 'questions_answered': \"Quel est l'âge limite pour passer le concours ?\\nQuel est le délai pour déposer son dossier ?\\nQu'est-ce qui se passe si je dépasse l'âge limite ?\"}),\n",
       " Document(page_content='Quels sont les eleves qui peuvent se presenter au concours?Le concours est ouvert aux élèves des classes de terminales scientifiques ou techniques (S1, S2, S3, T1, T2), mais également aux bacheliers et candidats libres aux baccalauréats (S1, S2, S3, T1, T2).', metadata={'keywords': 'Concours, Élèves, Baccalauréat', 'questions_answered': 'Qui peut se presenter au concours ?\\nQuels sont les élèves éligibles pour participer au concours ?\\nQuels sont les diplômes exigés pour participer au concours ?'}),\n",
       " Document(page_content='Les candidats seront évalués sur quelles matieres?Les matières à traiter sous forme de questions à choix multiples (QCM) sont : Mathématiques, Physique, Français, Anglais. La durée des épreuves est de trois heures.\\nOù puis-je trouver des epreuves des années précédentes?Vous pouvez télécharger des épreuves à partir de l\\x92onglet anciennes épreuves', metadata={'keywords': 'Épreuves, Matières, Candidats', 'questions_answered': \"Quels sont les sujets évalués lors de l'examen ?\\nOù puis-je trouver des épreuves des années précédentes ?\\nQuel est le délai imparti pour passer l'examen ?\"}),\n",
       " Document(page_content='Quel est le delai maximal pour envoyer mon relevé?Pour les candidats des classes de terminale, en cas de réussite au bac, ils sont priés d\\x92envoyer la photocopie légalisée du relevé du bac dans les dix jours suivant la proclamation des résultats.', metadata={'keywords': 'Bac, Relevé, Candidats', 'questions_answered': 'Quel est le délai pour envoyer le relevé du bac ?\\nQuels sont les documents à envoyer en cas de réussite au bac ?\\nDans quels délais faut-il envoyer la photocopie du relevé du bac ?'}),\n",
       " Document(page_content=\"Quelle est la durée de la formation à l'ept?La formation dure 05 années et est sanctionnée par le Diplôme d\\x92Ingénieur de Conception en Génie Civil,en Génie Électromécanique, en Génie Informatique & Télécommunications , en Génie Aéronautique et en Génie Industriel.\", metadata={'keywords': 'formation, Ingénieur, Génie', 'questions_answered': \"Quelle est la durée de la formation à l'EPT ?\\nQuel est le diplôme délivré à la fin de la formation ?\\nQuels sont les domaines d'ingénierie enseignés à l'EPT ?\"})]"
      ]
     },
     "execution_count": 10,
     "metadata": {},
     "output_type": "execute_result"
    }
   ],
   "source": [
    "final_docs[:5]"
   ]
  },
  {
   "cell_type": "markdown",
   "metadata": {},
   "source": [
    "### Create And Store Embeddings"
   ]
  },
  {
   "cell_type": "code",
   "execution_count": 13,
   "metadata": {},
   "outputs": [],
   "source": [
    "from langchain_community.embeddings.huggingface import HuggingFaceEmbeddings\n",
    "from langchain_chroma import Chroma\n",
    "\n",
    "embeddings_function = HuggingFaceEmbeddings(model_name=\"sentence-transformers/gtr-t5-large\")\n",
    "#db = Chroma.from_documents(final_docs, embeddings_function, persist_directory=\"./chroma_db\")"
   ]
  },
  {
   "cell_type": "code",
   "execution_count": 20,
   "metadata": {},
   "outputs": [],
   "source": [
    "db2 = Chroma(persist_directory=\"./chroma_db\", embedding_function=embeddings_function)"
   ]
  },
  {
   "cell_type": "markdown",
   "metadata": {},
   "source": [
    "### Create retriever with Reranking"
   ]
  },
  {
   "cell_type": "code",
   "execution_count": 17,
   "metadata": {},
   "outputs": [],
   "source": [
    "from langchain.retrievers import ContextualCompressionRetriever\n",
    "from langchain.retrievers.document_compressors import FlashrankRerank\n",
    "\n",
    "retriever=db2.as_retriever()"
   ]
  },
  {
   "cell_type": "code",
   "execution_count": 19,
   "metadata": {},
   "outputs": [
    {
     "data": {
      "text/plain": [
       "[Document(page_content='dans la phase de conception que dans la mise en \\x9cuvre des enseignements-apprentissages.La formation en Génie Informatique et Télécommunications (GIT) est dispensée depuis l\\x92année académique 2012-2013 et est portée, au sein de l\\x92EPT, par le département du Génie Informatique et Télécommunications (GIT). Elle a pour objectif de former des ingénieurs de conception', metadata={'keywords': 'Génie Informatique, Télécommunications,Formation', 'questions_answered': \"Quel est le domaine d'étude de la formation en GIT ?\\nQuel est l'objectif de la formation en Génie Informatique et Télécommunications ?\\nDepuis quand la formation en GIT est-elle dispensée ?\"}),\n",
       " Document(page_content='Initialement prévu parmi les axes du plan stratégique de l\\x92EPT à la suite de l\\x92autonomisation de celle-ci en 2009, le département du Génie Informatique et Télécommunications (GIT) fut créé dans la foulée par arrêté du Directeur de l\\x92EPT suite à une proposition du conseil pédagogique de l\\x92EPT. Toutefois, il n\\x92a ouvert ses portes qu\\x92en 2012-2013. Avec un démarrage par', metadata={'keywords': 'EPT, GIT, département', 'questions_answered': \"Quel est le département créé à la suite de l'autonomisation de l'EPT en 2009 ?\\nQuand le département du Génie Informatique et Télécommunications (GIT) a-t-il ouvert ses portes ?\\nQui a proposé la création du département du Génie Informatique et Télécommunications ?\"}),\n",
       " Document(page_content='aéronautique)\\xa0;Le département de Génie Informatique et télécommunications\\xa0;Le service de la Scolarité\\xa0;Le service d\\x92Information Documentaire\\xa0;Le service de l\\x92imprimerie et de la Reprographie.', metadata={'keywords': 'Génie Informatique; Scolarité; Imprimerie', 'questions_answered': \"Quels sont les différents services offerts par l'université ?\\nQuel est le rôle du département de Génie Informatique et télécommunications ?\\nQuels sont les services administratifs proposés aux étudiants ?\"}),\n",
       " Document(page_content='aéronautique)\\xa0;Le département de Génie Informatique et télécommunications\\xa0;Le service de la Scolarité\\xa0;Le service d\\x92Information Documentaire\\xa0;Le service de l\\x92imprimerie et de la Reprographie.', metadata={'keywords': 'Génie Informatique, Scolarité, Département', 'questions_answered': \"Quels sont les différents services offerts par le département ?\\nQuel est le rôle du service de la Scolarité ?\\nQuels sont les départements liés à l'informatique et aux télécommunications ?\"})]"
      ]
     },
     "execution_count": 19,
     "metadata": {},
     "output_type": "execute_result"
    }
   ],
   "source": [
    "retriever.get_relevant_documents(\"Génie Informatique\")"
   ]
  },
  {
   "cell_type": "markdown",
   "metadata": {},
   "source": [
    "### Build the retrieval QA with context chain"
   ]
  },
  {
   "cell_type": "code",
   "execution_count": 20,
   "metadata": {},
   "outputs": [],
   "source": [
    "from typing import Dict\n",
    "from langchain.chains.combine_documents.base import DEFAULT_DOCUMENT_PROMPT\n",
    "from langchain_core.prompts import format_document\n",
    "from langchain.prompts import ChatPromptTemplate\n",
    "from langchain_core.runnables.history import RunnableWithMessageHistory\n",
    "from langchain_core.runnables import RunnableBranch\n",
    "from langchain_core.chat_history import BaseChatMessageHistory\n",
    "from langchain_community.chat_message_histories import ChatMessageHistory\n",
    "\n",
    "store = {}\n",
    "\n",
    "def format_docs(inputs: dict) -> str:\n",
    "  inputs[\"context\"] = \"\\n\\n\".join(\n",
    "      f\"Document {i}:\\n {format_document(doc, DEFAULT_DOCUMENT_PROMPT)}\" for i, doc in enumerate(inputs[\"context\"])\n",
    "  )\n",
    "  return inputs\n",
    "\n",
    "def format_chat_history(data):\n",
    "  formatize_chat_history = \"\"\n",
    "  if \"chat_history\" in data.keys():\n",
    "    for message in data[\"chat_history\"]:\n",
    "      message_type = str(type(message)).split(\"'\")[1].split(\".\")[-1]\n",
    "      message_content = message.content.replace(\"\\n\", \"\")\n",
    "      formatize_chat_history += f\"\\t{message_type}: {message_content}\\n\"\n",
    "    data[\"chat_history\"] = formatize_chat_history\n",
    "  return data\n",
    "\n",
    "def get_session_history(session_id: str) -> BaseChatMessageHistory:\n",
    "    if session_id not in store:\n",
    "        store[session_id] = ChatMessageHistory()\n",
    "    return store[session_id]"
   ]
  },
  {
   "cell_type": "code",
   "execution_count": 21,
   "metadata": {},
   "outputs": [],
   "source": [
    "# QA Prompt\n",
    "qa_system_prompt = \"\"\"\n",
    "Je suis un assistant intelligent capable de discuter avec les utilisateur et de fournir des informations sur l'Ecole Polytechnique de Thiès communément appelé EPT. Sur la base du contexte et de la question de l'utilisateur, je fournis des informations à l'utilisateur de manière précise qui satisfont son besoin.\n",
    "\n",
    "contexte: {context}\n",
    "\"\"\"\n",
    "\n",
    "qa_prompt = ChatPromptTemplate.from_messages(\n",
    "  [\n",
    "    (\"system\", \"Je suis PolyBot une solution de chatbot basée sur l'IA Générative.\"),\n",
    "    (\"system\", qa_system_prompt),\n",
    "    (\"human\", \"{input}\"),\n",
    "  ]\n",
    ")"
   ]
  },
  {
   "cell_type": "code",
   "execution_count": 22,
   "metadata": {},
   "outputs": [],
   "source": [
    "# Contextualization\n",
    "contextualize_query_system_prompt = \"\"\"\n",
    "Je suis un assistant IA très util pour contextualiser les fils de discusssion. Compte tenu de l'historique du chat et de la \n",
    "dernière question de l'utilisateur, formule une question autonome qui peut être compris sans l'historique du chat.\n",
    "Donne juste la question directe et brute qui sera la proche possible de la dernière question de l'utilisateur.\n",
    "NE REPONDEZ PAS A LA QUESTION, reformulez-la au besoin ou retournez-la tel quel sinon.\n",
    "Historique_Chat: \n",
    "{chat_history}\n",
    "\n",
    "Dernière_Question: {input}\n",
    "\"\"\"\n",
    "\n",
    "contextualize_query_prompt = ChatPromptTemplate.from_template(contextualize_query_system_prompt)"
   ]
  },
  {
   "cell_type": "code",
   "execution_count": 23,
   "metadata": {},
   "outputs": [],
   "source": [
    "contextualization_chain = RunnableBranch(\n",
    "  (\n",
    "    lambda x: not x.get(\"chat_history\", False),\n",
    "    lambda x: x[\"input\"],\n",
    "  ),\n",
    "  format_chat_history | contextualize_query_prompt | llm | StrOutputParser(),\n",
    ")\n",
    "\n",
    "retrieval_chain = {\"context\": retriever , \"input\": RunnablePassthrough()}\n",
    "\n",
    "chain = contextualization_chain | retrieval_chain | qa_prompt | llm | StrOutputParser()"
   ]
  },
  {
   "cell_type": "code",
   "execution_count": 27,
   "metadata": {},
   "outputs": [
    {
     "data": {
      "text/plain": [
       "\"Pour candidater au MiTMN, vous devez fournir un dossier de candidature comprenant les pièces justificatives suivantes :\\n\\n* Extrait d'acte de naissance de moins de 3 mois\\n* Copie légalisée de la pièce d'identité officielle\\n* Copie légalisée du Baccalauréat\\n* Copie légalisée du relevé de notes du Baccalauréat\\n\\nIl est important de vérifier que votre dossier est complet et que toutes les pièces sont légalisées pour éviter tout problème lors de l'inscription.\""
      ]
     },
     "execution_count": 27,
     "metadata": {},
     "output_type": "execute_result"
    }
   ],
   "source": [
    "chain.invoke(\n",
    "    {\"input\": \"Quel est la procédure pour candidater?\"},\n",
    "    config={\n",
    "          \"configurable\": {\"session_id\": 'mass_sene'}\n",
    "    }\n",
    ")"
   ]
  },
  {
   "cell_type": "code",
   "execution_count": 26,
   "metadata": {},
   "outputs": [
    {
     "name": "stdout",
     "output_type": "stream",
     "text": [
      "            +---------------------------+          \n",
      "            | format_chat_history_input |          \n",
      "            +---------------------------+          \n",
      "                           *                       \n",
      "                           *                       \n",
      "                           *                       \n",
      "                      +--------+                   \n",
      "                      | Branch |                   \n",
      "                      +--------+                   \n",
      "                           *                       \n",
      "                           *                       \n",
      "                           *                       \n",
      "           +------------------------------+        \n",
      "           | Parallel<context,input>Input |        \n",
      "           +------------------------------+        \n",
      "                  ***            ***               \n",
      "                **                  **             \n",
      "              **                      **           \n",
      "+----------------------+          +-------------+  \n",
      "| VectorStoreRetriever |          | Passthrough |  \n",
      "+----------------------+          +-------------+  \n",
      "                  ***            ***               \n",
      "                     **        **                  \n",
      "                       **    **                    \n",
      "          +-------------------------------+        \n",
      "          | Parallel<context,input>Output |        \n",
      "          +-------------------------------+        \n",
      "                           *                       \n",
      "                           *                       \n",
      "                           *                       \n",
      "                +--------------------+             \n",
      "                | ChatPromptTemplate |             \n",
      "                +--------------------+             \n",
      "                           *                       \n",
      "                           *                       \n",
      "                           *                       \n",
      "                    +------------+                 \n",
      "                    | ChatOpenAI |                 \n",
      "                    +------------+                 \n",
      "                           *                       \n",
      "                           *                       \n",
      "                           *                       \n",
      "                 +-----------------+               \n",
      "                 | StrOutputParser |               \n",
      "                 +-----------------+               \n",
      "                           *                       \n",
      "                           *                       \n",
      "                           *                       \n",
      "              +-----------------------+            \n",
      "              | StrOutputParserOutput |            \n",
      "              +-----------------------+            \n"
     ]
    }
   ],
   "source": [
    "chain.get_graph().print_ascii()"
   ]
  }
 ],
 "metadata": {
  "kernelspec": {
   "display_name": "llm_env",
   "language": "python",
   "name": "python3"
  },
  "language_info": {
   "codemirror_mode": {
    "name": "ipython",
    "version": 3
   },
   "file_extension": ".py",
   "mimetype": "text/x-python",
   "name": "python",
   "nbconvert_exporter": "python",
   "pygments_lexer": "ipython3",
   "version": "3.9.13"
  }
 },
 "nbformat": 4,
 "nbformat_minor": 2
}
